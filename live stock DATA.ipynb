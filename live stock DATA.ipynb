{
 "cells": [
  {
   "cell_type": "code",
   "execution_count": null,
   "metadata": {},
   "outputs": [],
   "source": [
    "#pip install alpha_vantage"
   ]
  },
  {
   "cell_type": "code",
   "execution_count": null,
   "metadata": {},
   "outputs": [],
   "source": [
    "# Required Libraries\n",
    "import pandas as pd\n",
    "from alpha_vantage.timeseries import TimeSeries\n",
    "import time"
   ]
  },
  {
   "cell_type": "code",
   "execution_count": null,
   "metadata": {},
   "outputs": [],
   "source": [
    "#Api ket from alpha vantage https://www.alphavantage.co/\n",
    "api='MK2QQW6H0KR3EX30'"
   ]
  },
  {
   "cell_type": "code",
   "execution_count": null,
   "metadata": {},
   "outputs": [],
   "source": [
    "ts = TimeSeries(key=api_key, output_format='pandas')\n",
    "data, meta_data = ts.get_intraday(symbol='MSFT', interval = '1min', outputsize = 'full')\n",
    "print(data)"
   ]
  },
  {
   "cell_type": "code",
   "execution_count": null,
   "metadata": {},
   "outputs": [],
   "source": [
    "\n",
    "import pandas as pd\n",
    "from alpha_vantage.timeseries import TimeSeries\n",
    "import time\n",
    "\n",
    "api_key = 'MK2QQW6H0KR3EX30'\n",
    "\n",
    "ts = TimeSeries(key=api_key, output_format='pandas')\n",
    "data, meta_data = ts.fx_intraday(symbol='MSFT', interval = '1min', outputsize = 'full')\n",
    "print(data)\n",
    "\n",
    "i = 1\n",
    "while i==1:\n",
    "    data, meta_data = ts.get_intraday(symbol='MSFT', interval = '1min', outputsize = 'full')\n",
    "    data.to_excel(\"output.xlsx\")\n",
    "    time.sleep(60)"
   ]
  },
  {
   "cell_type": "code",
   "execution_count": null,
   "metadata": {},
   "outputs": [],
   "source": [
    ">>> df = pd.DataFrame({'name': ['Raphael', 'Donatello'],\n",
    "...                    'mask': ['red', 'purple'],\n",
    "...                    'weapon': ['sai', 'bo staff']})\n",
    ">>> df.to_csv(index=False)"
   ]
  },
  {
   "cell_type": "code",
   "execution_count": 4,
   "metadata": {},
   "outputs": [
    {
     "ename": "AttributeError",
     "evalue": "'ForeignExchange' object has no attribute 'get_intraday'",
     "output_type": "error",
     "traceback": [
      "\u001b[1;31m---------------------------------------------------------------------------\u001b[0m",
      "\u001b[1;31mAttributeError\u001b[0m                            Traceback (most recent call last)",
      "\u001b[1;32m<ipython-input-4-8ac7c892e662>\u001b[0m in \u001b[0;36m<module>\u001b[1;34m\u001b[0m\n\u001b[0;32m      6\u001b[0m \u001b[1;33m\u001b[0m\u001b[0m\n\u001b[0;32m      7\u001b[0m \u001b[0mts\u001b[0m \u001b[1;33m=\u001b[0m \u001b[0mForeignExchange\u001b[0m\u001b[1;33m(\u001b[0m\u001b[0mkey\u001b[0m\u001b[1;33m=\u001b[0m\u001b[0mapi_key\u001b[0m\u001b[1;33m,\u001b[0m \u001b[0moutput_format\u001b[0m\u001b[1;33m=\u001b[0m\u001b[1;34m'pandas'\u001b[0m\u001b[1;33m)\u001b[0m\u001b[1;33m\u001b[0m\u001b[1;33m\u001b[0m\u001b[0m\n\u001b[1;32m----> 8\u001b[1;33m \u001b[0mdata\u001b[0m\u001b[1;33m,\u001b[0m \u001b[0mmeta_data\u001b[0m \u001b[1;33m=\u001b[0m \u001b[0mts\u001b[0m\u001b[1;33m.\u001b[0m\u001b[0mget_intraday\u001b[0m\u001b[1;33m(\u001b[0m\u001b[0msymbol\u001b[0m\u001b[1;33m=\u001b[0m\u001b[1;34m'MSFT'\u001b[0m\u001b[1;33m,\u001b[0m \u001b[0minterval\u001b[0m \u001b[1;33m=\u001b[0m \u001b[1;34m'1min'\u001b[0m\u001b[1;33m,\u001b[0m \u001b[0moutputsize\u001b[0m \u001b[1;33m=\u001b[0m \u001b[1;34m'full'\u001b[0m\u001b[1;33m)\u001b[0m\u001b[1;33m\u001b[0m\u001b[1;33m\u001b[0m\u001b[0m\n\u001b[0m\u001b[0;32m      9\u001b[0m \u001b[0mprint\u001b[0m\u001b[1;33m(\u001b[0m\u001b[0mdata\u001b[0m\u001b[1;33m)\u001b[0m\u001b[1;33m\u001b[0m\u001b[1;33m\u001b[0m\u001b[0m\n\u001b[0;32m     10\u001b[0m \u001b[1;33m\u001b[0m\u001b[0m\n",
      "\u001b[1;31mAttributeError\u001b[0m: 'ForeignExchange' object has no attribute 'get_intraday'"
     ]
    }
   ],
   "source": [
    "import pandas as pd\n",
    "from alpha_vantage.foreignexchange import ForeignExchange\n",
    "import time\n",
    "\n",
    "api_key = 'MK2QQW6H0KR3EX30'\n",
    "\n",
    "ts = ForeignExchange(key=api_key, output_format='pandas')\n",
    "data, meta_data = ts.get_intraday(symbol='MSFT', interval = '1min', outputsize = 'full')\n",
    "print(data)\n",
    "\n",
    "i = 1\n",
    "while i==1:\n",
    "    data, meta_data = ts.get_intraday(symbol='MSFT', interval = '1min', outputsize = 'full')\n",
    "    data.to_excel(\"output.xlsx\")\n",
    "    time.sleep(60)"
   ]
  },
  {
   "cell_type": "code",
   "execution_count": null,
   "metadata": {},
   "outputs": [],
   "source": [
    "from alpha_vantage.foreignexchange import ForeignExchange\n",
    "import matplotlib.pyplot as plt\n",
    "\n",
    "fx = ForeignExchange(key=ALPHAVANTAGE_API_KEY, output_format='pandas')\n",
    "data, meta_data = fx.get_currency_exchange_intraday('EUR', 'USD', '5min', 'full')\n",
    "data['4. close'].plot()\n",
    "plt.title(f'Intraday Times Series for the {from_currency}-{to_currency} stock (5 min)')\n",
    "plt.show()"
   ]
  },
  {
   "cell_type": "code",
   "execution_count": 17,
   "metadata": {},
   "outputs": [
    {
     "name": "stdout",
     "output_type": "stream",
     "text": [
      "                     1. open  2. high  3. low  4. close\n",
      "date                                                   \n",
      "2019-12-16 10:09:00   1.1134   1.1134  1.1133    1.1134\n",
      "2019-12-16 10:08:00   1.1136   1.1136  1.1133    1.1134\n",
      "2019-12-16 10:07:00   1.1136   1.1136  1.1134    1.1136\n",
      "2019-12-16 10:06:00   1.1136   1.1136  1.1135    1.1136\n",
      "2019-12-16 10:05:00   1.1136   1.1137  1.1134    1.1136\n",
      "...                      ...      ...     ...       ...\n",
      "2019-12-15 18:04:00   1.1124   1.1124  1.1124    1.1124\n",
      "2019-12-15 18:03:00   1.1126   1.1126  1.1126    1.1126\n",
      "2019-12-15 18:02:00   1.1126   1.1126  1.1126    1.1126\n",
      "2019-12-15 18:01:00   1.1126   1.1126  1.1126    1.1126\n",
      "2019-12-15 18:00:00   1.1126   1.1126  1.1126    1.1126\n",
      "\n",
      "[970 rows x 4 columns]\n"
     ]
    },
    {
     "data": {
      "image/png": "[encoded data removed]",
      "text/plain": [
       "<Figure size 432x288 with 1 Axes>"
      ]
     },
     "metadata": {
      "needs_background": "light"
     },
     "output_type": "display_data"
    }
   ],
   "source": [
    "##fOREX\n",
    "import pandas as pd\n",
    "from alpha_vantage.foreignexchange import ForeignExchange\n",
    "import time\n",
    "import matplotlib.pyplot as plt\n",
    "api_key = 'MK2QQW6H0KR3EX30'\n",
    "fx = ForeignExchange(key=api_key, output_format='pandas')\n",
    "data, meta_data = fx.get_currency_exchange_intraday('EUR','USD','1min', 'full')\n",
    "data['4. close'].plot()\n",
    "#plt.title(f'Intraday Times Series for the {from_currency}-{to_currency} stock (1 min)')\n",
    "#plt.show()\n",
    "print(data)\n",
    "data.to_excel(\"OUTPUT.xlsx\")\n",
    "time.sleep(60)"
   ]
  },
  {
   "cell_type": "code",
   "execution_count": null,
   "metadata": {},
   "outputs": [],
   "source": [
    "##fOREX \n",
    "from alpha_vantage.foreignexchange import ForeignExchange\n",
    "import matplotlib.pyplot as plt\n",
    "cc = ForeignExchange(key='YOUR_API_KEY',output_format='pandas')\n",
    "data, meta_data = cc.get_currency_exchange_intraday(from_symbol='CAD',to_symbol='USD')\n",
    "print(data)\n",
    "data['4. close'].plot()\n",
    "plt.tight_layout()\n",
    "plt.title('Intraday CAD/USD')\n",
    "plt.show()"
   ]
  },
  {
   "cell_type": "code",
   "execution_count": null,
   "metadata": {},
   "outputs": [],
   "source": [
    "#GLOBAL EQUITY\n",
    "from alpha_vantage.timeseries import TimeSeries\n",
    "import matplotlib.pyplot as plt\n",
    "ts = TimeSeries(key='YOUR_API_KEY',output_format='pandas')\n",
    "data, meta_data = ts.get_intraday(symbol='TSE:TD',interval='1min', outputsize='full')\n",
    "print(data)\n",
    "data['4. close'].plot()\n",
    "plt.title('Intraday TimeSeries Google')\n",
    "plt.show()"
   ]
  },
  {
   "cell_type": "code",
   "execution_count": null,
   "metadata": {},
   "outputs": [],
   "source": [
    "##DIFFERENT OUTPUTS\n",
    "ts = TimeSeries(key='YOUR_API_KEY') #JSON\n",
    "ts = TimeSeries(key='YOUR_API_KEY',output_format='pandas') #pandas\n",
    "ts = TimeSeries(key='YOUR_API_KEY',output_format='csv') #CSV"
   ]
  },
  {
   "cell_type": "code",
   "execution_count": null,
   "metadata": {},
   "outputs": [],
   "source": [
    "## USING TECHINCAL BAND\n",
    "from alpha_vantage.techindicators import TechIndicators\n",
    "import matplotlib.pyplot as plt\n",
    "ti = TechIndicators(key='YOUR_API_KEY',output_format='pandas')\n",
    "data, meta_data = ti.get_bbands(symbol='TSE:TD',interval='1min', time_period=60)\n",
    "data.plot()\n",
    "plt.show()"
   ]
  },
  {
   "cell_type": "code",
   "execution_count": null,
   "metadata": {},
   "outputs": [],
   "source": [
    "## CRYPTO CURRENCY\n",
    "from alpha_vantage.cryptocurrencies import CryptoCurrencies\n",
    "import matplotlib.pyplot as plt\n",
    "cc = CryptoCurrencies(key='YOUR_API_KEY',output_format='pandas')\n",
    "data, meta_data = cc.get_digital_currency_daily(symbol='BTC', market='CAD')\n",
    "print(data)\n",
    "data['1a. open (CAD)'].plot()\n",
    "plt.tight_layout()\n",
    "plt.title('daily value for bitcoin (BTC) in CAD')\n",
    "plt.grid()\n",
    "plt.show()"
   ]
  },
  {
   "cell_type": "code",
   "execution_count": null,
   "metadata": {},
   "outputs": [],
   "source": [
    "## SECTORS\n",
    "from alpha_vantage.sectorperformance import SectorPerformances\n",
    "import matplotlib.pyplot as plt\n",
    "sp = SectorPerformances(key='YOUR_API_KEY',output_format='pandas')\n",
    "data, meta_data = sp.get_sector()\n",
    "print(data)\n",
    "print(meta_data)\n",
    "data['Rank B: Day Performance'].plot(kind='bar')\n",
    "plt.title('Day Performance (%) per Sector')\n",
    "plt.tight_layout()\n",
    "plt.grid()\n",
    "plt.show()"
   ]
  }
 ],
 "metadata": {
  "kernelspec": {
   "display_name": "Python 3",
   "language": "python",
   "name": "python3"
  },
  "language_info": {
   "codemirror_mode": {
    "name": "ipython",
    "version": 3
   },
   "file_extension": ".py",
   "mimetype": "text/x-python",
   "name": "python",
   "nbconvert_exporter": "python",
   "pygments_lexer": "ipython3",
   "version": "3.7.3"
  }
 },
 "nbformat": 4,
 "nbformat_minor": 2
}
